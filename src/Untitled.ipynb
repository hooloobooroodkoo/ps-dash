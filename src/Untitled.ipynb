{
 "cells": [
  {
   "cell_type": "code",
   "execution_count": null,
   "metadata": {},
   "outputs": [
    {
     "name": "stdout",
     "output_type": "stream",
     "text": [
      " * Serving Flask app \"__main__\" (lazy loading)\n",
      " * Environment: production\n",
      "   WARNING: This is a development server. Do not use it in a production deployment.\n",
      "   Use a production WSGI server instead.\n",
      " * Debug mode: off\n"
     ]
    },
    {
     "name": "stderr",
     "output_type": "stream",
     "text": [
      " * Running on http://127.0.0.1:8050/ (Press CTRL+C to quit)\n",
      "127.0.0.1 - - [18/Apr/2020 14:54:44] \"GET / HTTP/1.1\" 200 -\n",
      "127.0.0.1 - - [18/Apr/2020 14:54:44] \"GET /_dash-component-suites/dash_renderer/react@16.v1_2_3m1581001564.8.6.min.js HTTP/1.1\" 200 -\n",
      "127.0.0.1 - - [18/Apr/2020 14:54:44] \"GET /_dash-component-suites/dash_core_components/dash_core_components-shared.v1_7_0m1581001565.js HTTP/1.1\" 200 -\n",
      "127.0.0.1 - - [18/Apr/2020 14:54:44] \"GET /_dash-component-suites/dash_renderer/prop-types@15.v1_2_3m1581001564.7.2.min.js HTTP/1.1\" 200 -\n",
      "127.0.0.1 - - [18/Apr/2020 14:54:44] \"GET /_dash-component-suites/dash_renderer/polyfill@7.v1_2_3m1581001564.7.0.min.js HTTP/1.1\" 200 -\n",
      "127.0.0.1 - - [18/Apr/2020 14:54:44] \"GET /_dash-component-suites/dash_renderer/react-dom@16.v1_2_3m1581001564.8.6.min.js HTTP/1.1\" 200 -\n",
      "127.0.0.1 - - [18/Apr/2020 14:54:44] \"GET /_dash-component-suites/dash_html_components/dash_html_components.v1_0_2m1574786693.min.js HTTP/1.1\" 200 -\n",
      "127.0.0.1 - - [18/Apr/2020 14:54:45] \"GET /_dash-component-suites/dash_renderer/dash_renderer.v1_2_3m1581001564.min.js HTTP/1.1\" 200 -\n",
      "127.0.0.1 - - [18/Apr/2020 14:54:45] \"GET /_dash-component-suites/dash_core_components/dash_core_components.v1_7_0m1581001565.min.js HTTP/1.1\" 200 -\n",
      "127.0.0.1 - - [18/Apr/2020 14:54:45] \"GET /_dash-dependencies HTTP/1.1\" 200 -\n",
      "127.0.0.1 - - [18/Apr/2020 14:54:45] \"GET /_favicon.ico?v=1.8.0 HTTP/1.1\" 200 -\n",
      "127.0.0.1 - - [18/Apr/2020 14:54:45] \"GET /_dash-layout HTTP/1.1\" 200 -\n",
      "127.0.0.1 - - [18/Apr/2020 14:54:45] \"GET /_dash-component-suites/dash_core_components/async~graph.v1_7_0m1579024535.js HTTP/1.1\" 200 -\n",
      "127.0.0.1 - - [18/Apr/2020 14:54:45] \"GET /_dash-component-suites/dash_core_components/async~plotlyjs.v1_7_0m1579024535.js HTTP/1.1\" 200 -\n"
     ]
    }
   ],
   "source": [
    "#import pandas as pd\n",
    "import plotly_express as px\n",
    "import plotly.express as px\n",
    "import dash\n",
    "import dash_html_components as html\n",
    "import dash_core_components as dcc\n",
    "from dash.dependencies import Input, Output\n",
    "\n",
    "import pandas as pd\n",
    "\n",
    "import getpass\n",
    "import DatasetBuilder as build\n",
    "\n",
    "\n",
    "def LoadBubbleChartData(isDev):\n",
    "    if isDev:\n",
    "        mdf = pd.read_csv('data.csv')\n",
    "    else:\n",
    "        mdf = build.BubbleChartDataset()\n",
    "    return mdf\n",
    "\n",
    "username = getpass.getuser()\n",
    "isDev = True if username == 'petya' else False\n",
    "\n",
    "df = LoadBubbleChartData(isDev)\n",
    "\n",
    "app = dash.Dash(\n",
    "    __name__, external_stylesheets=[\"https://codepen.io/chriddyp/pen/bWLwgP.css\"]\n",
    ")\n",
    "\n",
    "def generate_table(dataframe, max_rows=10):\n",
    "    return html.Table([\n",
    "        html.Thead(\n",
    "            html.Tr([html.Th(col) for col in dataframe.columns])\n",
    "        ),\n",
    "        html.Tbody([\n",
    "            html.Tr([\n",
    "                html.Td(dataframe.iloc[i][col]) for col in dataframe.columns\n",
    "            ]) for i in range(min(len(dataframe), max_rows))\n",
    "        ])\n",
    "    ])\n",
    "\n",
    "\n",
    "app.layout = html.Div(\n",
    "#     [\n",
    "#         html.H3(\"Demo: Plotly Express in Dash\"),\n",
    "\n",
    "#         html.Div(\n",
    "#             dcc.Graph(figure=px.scatter(df, x=\"period\", y=\"host\",\n",
    "#                       size=df[\"mean\"].fillna(value=0), color=\"host\", \n",
    "#                       hover_name=\"host\", size_max=45, height=700)\n",
    "#                   .update(layout={\n",
    "#                       'title':'Avg Packet Loss from 01-12-2019 to 22-01-2020',\n",
    "#                       'xaxis':{'title':'Period'},\n",
    "#                       'yaxis':{'title':'Hosts'},\n",
    "#                       'paper_bgcolor':'rgba(0,0,0,0)',\n",
    "#                       'plot_bgcolor':'rgba(0,0,0,0)'\n",
    "#                   }),\n",
    "#                  ),)\n",
    "#     ]\n",
    "    \n",
    "    generate_table(df)\n",
    ")\n",
    "\n",
    "app.run_server(debug=False)"
   ]
  },
  {
   "cell_type": "code",
   "execution_count": null,
   "metadata": {},
   "outputs": [],
   "source": [
    "df.head()"
   ]
  },
  {
   "cell_type": "code",
   "execution_count": null,
   "metadata": {},
   "outputs": [],
   "source": []
  }
 ],
 "metadata": {
  "kernelspec": {
   "display_name": "Python 3",
   "language": "python",
   "name": "python3"
  },
  "language_info": {
   "codemirror_mode": {
    "name": "ipython",
    "version": 3
   },
   "file_extension": ".py",
   "mimetype": "text/x-python",
   "name": "python",
   "nbconvert_exporter": "python",
   "pygments_lexer": "ipython3",
   "version": "3.7.3"
  }
 },
 "nbformat": 4,
 "nbformat_minor": 2
}
